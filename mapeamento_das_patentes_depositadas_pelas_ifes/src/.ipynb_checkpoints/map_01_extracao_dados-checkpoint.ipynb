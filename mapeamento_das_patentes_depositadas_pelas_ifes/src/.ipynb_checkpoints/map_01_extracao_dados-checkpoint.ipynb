{
 "cells": [
  {
   "cell_type": "markdown",
   "id": "3232bfff-9aeb-4256-ab92-07e6692b11d0",
   "metadata": {
    "slideshow": {
     "slide_type": "slide"
    },
    "tags": []
   },
   "source": [
    "# Mapeamento de patentes"
   ]
  },
  {
   "cell_type": "markdown",
   "id": "051358b7",
   "metadata": {},
   "source": [
    "### Bibliotecas"
   ]
  },
  {
   "cell_type": "code",
   "execution_count": null,
   "id": "59531522",
   "metadata": {},
   "outputs": [],
   "source": [
    "from bs4 import BeautifulSoup\n",
    "import pandas as pd\n",
    "import os, requests, zipfile"
   ]
  },
  {
   "cell_type": "markdown",
   "id": "a367af93-d4af-4cab-964d-033d29382c27",
   "metadata": {
    "slideshow": {
     "slide_type": "skip"
    }
   },
   "source": [
    "### Download das revistas"
   ]
  },
  {
   "cell_type": "markdown",
   "id": "20d1b3de",
   "metadata": {},
   "source": [
    "Fonte de dados: http://revistas.inpi.gov.br/rpi/#"
   ]
  },
  {
   "cell_type": "code",
   "execution_count": null,
   "id": "c56c85e8",
   "metadata": {},
   "outputs": [],
   "source": [
    "url2 = 2557\n",
    "while url2 <= 2660:\n",
    "    zip_url = 'http://revistas.inpi.gov.br/txt/P' + str(url2) + '.zip'\n",
    "    # Nome do arquivo na pasta\n",
    "    file_name = 'P' + str(url2) + '.zip'\n",
    "\n",
    "    # Pasta onde você deseja salvar o arquivo ZIP\n",
    "    output_folder = 'data_proj_map_patentes'\n",
    "\n",
    "    # Caminho completo para o arquivo ZIP\n",
    "    zip_path = os.path.join(output_folder, file_name)\n",
    "\n",
    "    # Verifique se a pasta de saída existe e a crie se não existir\n",
    "    if not os.path.exists(output_folder):\n",
    "        os.makedirs(output_folder)\n",
    "\n",
    "    # Faça o download do arquivo ZIP diretamente na pasta de saída\n",
    "    response = requests.get(zip_url)\n",
    "\n",
    "    if response.status_code == 200:\n",
    "        with open(zip_path, \"wb\") as zip_file:\n",
    "            zip_file.write(response.content)\n",
    "        \n",
    "        print(f\"Arquivo ZIP salvo em '{zip_path}'\")\n",
    "\n",
    "        # Abra o arquivo ZIP e extraia o arquivo .xml que começa com \"patente\"\n",
    "        with zipfile.ZipFile(zip_path) as zipf:\n",
    "            for filename in zipf.namelist():\n",
    "                if filename.startswith(\"Patente_\"):\n",
    "                    # Extraia o arquivo correspondente\n",
    "                    with zipf.open(filename) as xml_file:\n",
    "                        xml_content = xml_file.read()\n",
    "                        xml_filename = os.path.join(output_folder, filename)\n",
    "                        with open(xml_filename, \"wb\") as output_file:\n",
    "                            output_file.write(xml_content)\n",
    "                    \n",
    "                    print(f\"Arquivo XML {filename} extraído com sucesso em '{xml_filename}'\")\n",
    "                    break  # Pare a iteração após encontrar o primeiro arquivo\n",
    "\n",
    "        # Excluir o arquivo ZIP após a extração, se necessário\n",
    "        os.remove(zip_path)\n",
    "\n",
    "    else:\n",
    "        print(f\"O download do arquivo ZIP falhou com o código de status {response.status_code}\")\n",
    "    url2 += 1"
   ]
  },
  {
   "cell_type": "markdown",
   "id": "6386e857",
   "metadata": {},
   "source": [
    "### Raspagem dos dados"
   ]
  },
  {
   "cell_type": "code",
   "execution_count": null,
   "id": "28baf36a",
   "metadata": {},
   "outputs": [],
   "source": [
    "# Definir função para raspagem de um arquivo xml\n",
    "def raspagem(soup):\n",
    "    # Inicializar listas para armazenar os dados\n",
    "    data_publicacao = []\n",
    "    diretoria = []\n",
    "    numero_revista = []\n",
    "    codigo = []\n",
    "    titulo = []\n",
    "    numero = []\n",
    "    data_deposito = []\n",
    "    data_prioridade = []\n",
    "    cod_prioridade = []\n",
    "    classificacoes_internacionais = []\n",
    "    classificacoes_nacionais = []\n",
    "    titulo_inid = []\n",
    "    titular_nome = []\n",
    "    titular_uf = []\n",
    "    titular_pais = []\n",
    "    inventor_nome = []\n",
    "\n",
    "    # Extrair os dados do xml\n",
    "    for despacho in soup.find_all(lambda tag: tag.name == 'despacho' and '<codigo>3.1</codigo>' in str(tag)):\n",
    "        data_publ = soup.revista['dataPublicacao']\n",
    "        diret = soup.revista['diretoria']\n",
    "        num_rev = soup.revista['numero']\n",
    "        cod = despacho.find('codigo').text\n",
    "        tit = despacho.find('titulo').text\n",
    "        num = despacho.find('numero').text\n",
    "        data = despacho.find('data-deposito').text\n",
    "        data_prio = despacho.find('data-prioridade', inid=\"31\").text if despacho.find('data-prioridade', inid=\"31\") else None\n",
    "        cod_prio1 = despacho.find('sigla-pais', inid=\"33\").text if despacho.find('sigla-pais', inid=\"33\") else None\n",
    "        cod_prio2 = despacho.find('numero-prioridade', inid=\"32\").text if despacho.find('numero-prioridade', inid=\"32\") else None\n",
    "        cod_prio = cod_prio1 + cod_prio2 if (cod_prio1 != None and cod_prio2 != None) else None\n",
    "        internacionais = '; '.join(ci.text for ci in despacho.find_all('classificacao-internacional'))\n",
    "        nacionais = '; '.join(cn.text for cn in despacho.find_all('classificacao-nacional'))\n",
    "        tit_inid = despacho.find('titulo', inid=\"54\").text if despacho.find('titulo', inid=\"54\") else None\n",
    "        titu_nome = despacho.find('nome-completo').text if despacho.find('nome-completo') else None\n",
    "        titu_uf = despacho.find('uf').text if despacho.find('uf') else None\n",
    "        titu_pais = despacho.find('sigla').text if despacho.find('sigla') else None\n",
    "        invent_nome = despacho.find('inventor').text if despacho.find('inventor') else None\n",
    "        # Incluir os dados na lista\n",
    "        data_publicacao.append(data_publ)\n",
    "        diretoria.append(diret)\n",
    "        numero_revista.append(num_rev)\n",
    "        codigo.append(cod)\n",
    "        titulo.append(tit)\n",
    "        numero.append(num)\n",
    "        data_deposito.append(data)\n",
    "        data_prioridade.append(data_prio)\n",
    "        cod_prioridade.append(cod_prio)\n",
    "        classificacoes_internacionais.append(internacionais)\n",
    "        classificacoes_nacionais.append(nacionais)\n",
    "        titulo_inid.append(tit_inid)\n",
    "        titular_nome.append(titu_nome)\n",
    "        titular_uf.append(titu_uf)\n",
    "        titular_pais.append(titu_pais)\n",
    "        inventor_nome.append(invent_nome)\n",
    "        # Transformar listas em dataframe\n",
    "        df = pd.DataFrame({\n",
    "            'data_publicacao' : data_publicacao,\n",
    "            'diretoria' : diretoria,\n",
    "            'numero_revista' : numero_revista,\n",
    "            'codigo' : codigo,\n",
    "            'titulo' : titulo,\n",
    "            'numero' : numero,\n",
    "            'data_deposito' : data_deposito,\n",
    "            'data_prioridade' : data_prioridade,\n",
    "            'cod_prioridade' : cod_prioridade,\n",
    "            'classif_internacion' : classificacoes_nacionais,\n",
    "            'classif_nacion' : classificacoes_nacionais,\n",
    "            'titulo_inid' : titulo_inid,\n",
    "            'titular_nome' : titular_nome,\n",
    "            'titular_uf' : titular_uf,\n",
    "            'titular_pais' : titular_pais,\n",
    "            'inventor_nome' : inventor_nome\n",
    "            })\n",
    "    return(df)"
   ]
  },
  {
   "cell_type": "markdown",
   "id": "5b38e1cb",
   "metadata": {},
   "source": [
    "### Salvar dataframe completo"
   ]
  },
  {
   "cell_type": "code",
   "execution_count": null,
   "id": "ac3dded6",
   "metadata": {},
   "outputs": [],
   "source": [
    "# Inicializar o dataframe\n",
    "data = pd.DataFrame()\n",
    "for file in os.listdir('data_proj_map_patentes'):\n",
    "    filepath = os.path.join('data_proj_map_patentes', file)\n",
    "    with open(filepath, encoding='utf-8') as arquivo_xml:\n",
    "        conteudo = arquivo_xml.read()\n",
    "    soup = BeautifulSoup(conteudo, 'xml')\n",
    "    df = raspagem(soup)\n",
    "    data = pd.concat([data, df], axis=0)\n",
    "\n",
    "data.to_excel('data.xlsx', index=False)"
   ]
  },
  {
   "cell_type": "markdown",
   "id": "c7037b6f",
   "metadata": {},
   "source": [
    "### Verificar informações do dataframe completo"
   ]
  },
  {
   "cell_type": "code",
   "execution_count": null,
   "id": "a0906b67",
   "metadata": {},
   "outputs": [],
   "source": [
    "data.info()"
   ]
  }
 ],
 "metadata": {
  "celltoolbar": "Slideshow",
  "kernelspec": {
   "display_name": "Python 3 (ipykernel)",
   "language": "python",
   "name": "python3"
  },
  "language_info": {
   "codemirror_mode": {
    "name": "ipython",
    "version": 3
   },
   "file_extension": ".py",
   "mimetype": "text/x-python",
   "name": "python",
   "nbconvert_exporter": "python",
   "pygments_lexer": "ipython3",
   "version": "3.11.5"
  },
  "toc": {
   "base_numbering": 1,
   "nav_menu": {},
   "number_sections": true,
   "sideBar": true,
   "skip_h1_title": false,
   "title_cell": "Table of Contents",
   "title_sidebar": "Contents",
   "toc_cell": false,
   "toc_position": {},
   "toc_section_display": true,
   "toc_window_display": false
  }
 },
 "nbformat": 4,
 "nbformat_minor": 5
}
