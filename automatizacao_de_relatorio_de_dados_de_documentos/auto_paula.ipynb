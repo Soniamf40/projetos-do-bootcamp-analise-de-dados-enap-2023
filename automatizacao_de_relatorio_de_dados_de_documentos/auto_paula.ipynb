{
 "cells": [
  {
   "cell_type": "code",
   "execution_count": 21,
   "metadata": {},
   "outputs": [],
   "source": [
    "from bs4 import  BeautifulSoup\n",
    "import re\n",
    "from collections import OrderedDict\n",
    "import pandas as pd"
   ]
  },
  {
   "cell_type": "code",
   "execution_count": 40,
   "metadata": {},
   "outputs": [
    {
     "name": "stdout",
     "output_type": "stream",
     "text": [
      "Collecting html5lib"
     ]
    },
    {
     "name": "stderr",
     "output_type": "stream",
     "text": [
      "\n",
      "[notice] A new release of pip is available: 23.2.1 -> 23.3\n",
      "[notice] To update, run: python.exe -m pip install --upgrade pip\n"
     ]
    },
    {
     "name": "stdout",
     "output_type": "stream",
     "text": [
      "\n",
      "  Downloading html5lib-1.1-py2.py3-none-any.whl (112 kB)\n",
      "     ---------------------------------------- 0.0/112.2 kB ? eta -:--:--\n",
      "     ---------------------------------------- 0.0/112.2 kB ? eta -:--:--\n",
      "     --- ------------------------------------ 10.2/112.2 kB ? eta -:--:--\n",
      "     --- ------------------------------------ 10.2/112.2 kB ? eta -:--:--\n",
      "     ---------- -------------------------- 30.7/112.2 kB 187.9 kB/s eta 0:00:01\n",
      "     ---------- -------------------------- 30.7/112.2 kB 187.9 kB/s eta 0:00:01\n",
      "     -------------------- ---------------- 61.4/112.2 kB 234.9 kB/s eta 0:00:01\n",
      "     -------------------- ---------------- 61.4/112.2 kB 234.9 kB/s eta 0:00:01\n",
      "     ------------------------------------ 112.2/112.2 kB 326.7 kB/s eta 0:00:00\n",
      "Requirement already satisfied: six>=1.9 in c:\\users\\pbitg\\appdata\\local\\programs\\python\\python311\\lib\\site-packages (from html5lib) (1.16.0)\n",
      "Requirement already satisfied: webencodings in c:\\users\\pbitg\\appdata\\local\\programs\\python\\python311\\lib\\site-packages (from html5lib) (0.5.1)\n",
      "Installing collected packages: html5lib\n",
      "Successfully installed html5lib-1.1\n"
     ]
    }
   ],
   "source": [
    "import os\n",
    "import pandas as pd\n",
    "!pip install html5lib"
   ]
  },
  {
   "cell_type": "code",
   "execution_count": 47,
   "metadata": {},
   "outputs": [
    {
     "name": "stdout",
     "output_type": "stream",
     "text": [
      "['0961496.html', '0967568.html', '1024528.html', '1159758.html']\n"
     ]
    }
   ],
   "source": [
    "# ler todos os arquivos da pasta\n",
    "\n",
    "folderpath = os.path.join(os.getcwd(),'jocker_sei')\n",
    "lista_html = []\n",
    "for file in os.listdir(folderpath):\n",
    "    if file.endswith('.html'):\n",
    "        filepath = os.path.join(folderpath, file)\n",
    "        lista_html.append(file)\n",
    "print(lista_html)"
   ]
  },
  {
   "cell_type": "code",
   "execution_count": 54,
   "metadata": {},
   "outputs": [
    {
     "name": "stdout",
     "output_type": "stream",
     "text": [
      "OrderedDict([('Tipo de Solicitante', 'Externo'), ('Nome do(a) Solicitante', 'Karlos Guilherme Diemer Kochhann'), ('Organização/Unidade', 'UNISINOS'), ('E-mail', 'KKOCHHANN@unisinos.br'), ('Telefone (com DDD)', '(51)35911-1220'), ('Volume Solicitado', '<200 Exemplares'), ('Microscópio Eletrônico de Varredura - MEV', 'Não'), ('Microssonda', 'Não'), ('Inductively Coupled Plasma Mass Spectrometry (ICP-MS)', 'Não'), ('Digital X-Ray Detectors (DXR)', 'Não'), ('Fluorescência de Raios X (FRX)', 'Não'), ('Fire Assay', 'Não'), ('Densidade', 'Não'), ('Porosidade', 'Não'), ('Tomografia', 'Não'), ('Ressonância Magnética Nuclear (RMN)', 'Não'), ('Permeabilidade/Porosidade', 'Não'), ('Condutibilidade', 'Não'), ('Resistividade', 'Não'), ('Susceptibilidade', 'Não'), ('Outros', 'Sim'), ('Mapeamento', 'Não'), ('Geoquímica', 'Não'), ('Programa de Parcerias de Investimentos (PPI)', 'Não'), ('Geofísica', 'Não'), ('Estudo Geotecnológico', 'Não'), ('Artigo', 'Sim'), ('Pesquisa Mineral', 'Não'), ('Graduação', 'Não'), ('Mestrado', 'Não'), ('Doutorado', 'Sim'), ('Pós-Doutorado', 'Não'), ('Resumo das Atividades a serem Realizadas', 'Coleta de amostras do testemunho SL-01-RS. As amostras serão utilizadas para análises geoquímicas que servirão de base para o desenvolvimento de um dos artigos da tese de doutorado da Franciele Trentin. Primeiramente, como resultado da pesquisa, espera-se uma reconstrução climática e ambiental de alta qualidade das formações Rio do Sul e Rio Bonito no sul da Bacia do Paraná. Posteriormente, espera-se determinar a posição e as características da transição paleoclimática de frio e árido (período glacial) para quente e úmido (período pós-glacial) entre o intervalo do Carbonífero ao Permiano do sul da Bacia do Paraná. Por fim, epera-se obter uma relação dos resultados paleoclimáticos desta pesquisa com as informações paleoclimáticas de outras áreas do sul do paleocontinente Gondwana.'), ('Nome do Projeto', 'CARVÃO ENERG. NO EST.DO RIO G.DO SUL'), ('Ano do Projeto', '1980'), ('Centro de Custo do Projeto', '1446550'), ('Número do SGP', '0'), ('Unidade Executora', 'RS'), ('Requisição de Análise (RA)', '0'), ('Lote', '0'), ('Alíquotas Geoquímicas', '0'), ('Material de Referência', '0'), ('Rochas', '0'), ('Testemunhos de Sondagem (em metros)', '294,00'), ('Solos', '0'), ('Sedimentos de Corrente', '0'), ('Concentrados de Batéia', '0'), ('Lâminas Petrográficas', '0'), ('Seções Polidas', '0'), ('Cadernetas de Campo', '0'), ('Observações', 'O testemunho SL-01-RS solicitado encontra-se nas dependências da UNISINOS, portanto, a solicitação refere-se apenas a amostragem e não será realizada visitação às dependências da LIPA.'), ('ACEITO', 'Sim')])\n"
     ]
    }
   ],
   "source": [
    "for item in lista_html:\n",
    "    arquivo = folderpath + '/' + item\n",
    "\n",
    "    with open(arquivo, \"r\", encoding=\"utf-8\") as f:\n",
    "        soup = BeautifulSoup(f.read(), \"html.parser\")\n",
    "    \n",
    "    tags = [tag for tag in soup.find(\"div\", id=\"conteudo\").children if len(tag.text.strip()) > 0 and not re.match(r\"^\\d+\\.\", tag.text.strip())]\n",
    "    # Cada HTML, um dicionário ordenado\n",
    "    dict_series = OrderedDict()\n",
    "    \n",
    "    for index in range(len(tags)):\n",
    "        tag = tags[index]\n",
    "        \n",
    "        if tag.name == \"b\":\n",
    "            key = tag.text.strip().rstrip(\":\")\n",
    "            value = tags[index + 1].text.strip()\n",
    "            \n",
    "            dict_series[key] = value\n",
    "\n",
    "\n",
    "# Empilhar todos os dicionários para criar o df e interpretar os dtypes\n",
    "    df = (\n",
    "        pd.DataFrame([dict_series])\n",
    "            .apply(lambda x: pd.to_numeric(x.str.replace(\",\", \".\"), errors=\"ignore\"))\n",
    "            .apply(lambda x: x.replace(\"Sim\", True).replace(\"Não\", False))\n",
    "            \n",
    "    )\n",
    "\n",
    "# df[df.columns[50:]] #.info()\n",
    "\n",
    "df.head()\n",
    "print(dict_series)"
   ]
  },
  {
   "cell_type": "code",
   "execution_count": 52,
   "metadata": {},
   "outputs": [],
   "source": [
    "# content = [item for item in soup.find(\"div\", id=\"conteudo\").get_text(separator=\"|\", strip=True).split(\"|\") if not re.match(r\"^\\d+\\.\", item)]\n",
    "\n",
    "#[x for x in re.split(\"[\\n]+\", content)]\n",
    "\n",
    "#list(zip(content[::2], content[1::2]))"
   ]
  },
  {
   "cell_type": "code",
   "execution_count": 59,
   "metadata": {},
   "outputs": [
    {
     "ename": "TypeError",
     "evalue": "type 'DataFrame' is not subscriptable",
     "output_type": "error",
     "traceback": [
      "\u001b[1;31m---------------------------------------------------------------------------\u001b[0m",
      "\u001b[1;31mTypeError\u001b[0m                                 Traceback (most recent call last)",
      "Cell \u001b[1;32mIn[59], line 1\u001b[0m\n\u001b[1;32m----> 1\u001b[0m df2 \u001b[38;5;241m=\u001b[39m (\u001b[43mpd\u001b[49m\u001b[38;5;241;43m.\u001b[39;49m\u001b[43mDataFrame\u001b[49m\u001b[43m[\u001b[49m\u001b[43mdict_series\u001b[49m\u001b[43m]\u001b[49m)\n\u001b[0;32m      2\u001b[0m \u001b[38;5;28mprint\u001b[39m(df2)\n",
      "\u001b[1;31mTypeError\u001b[0m: type 'DataFrame' is not subscriptable"
     ]
    }
   ],
   "source": [
    "df2 = (pd.DataFrame[dict_series])\n",
    "print(df2)"
   ]
  },
  {
   "cell_type": "code",
   "execution_count": 38,
   "metadata": {},
   "outputs": [
    {
     "name": "stdout",
     "output_type": "stream",
     "text": [
      "OrderedDict([('Tipo de Solicitante', 'Externo'), ('Nome do(a) Solicitante', 'Karlos Guilherme Diemer Kochhann'), ('Organização/Unidade', 'UNISINOS'), ('E-mail', 'KKOCHHANN@unisinos.br'), ('Telefone (com DDD)', '(51)35911-1220'), ('Volume Solicitado', '<200 Exemplares'), ('Microscópio Eletrônico de Varredura - MEV', 'Não'), ('Microssonda', 'Não'), ('Inductively Coupled Plasma Mass Spectrometry (ICP-MS)', 'Não'), ('Digital X-Ray Detectors (DXR)', 'Não'), ('Fluorescência de Raios X (FRX)', 'Não'), ('Fire Assay', 'Não'), ('Densidade', 'Não'), ('Porosidade', 'Não'), ('Tomografia', 'Não'), ('Ressonância Magnética Nuclear (RMN)', 'Não'), ('Permeabilidade/Porosidade', 'Não'), ('Condutibilidade', 'Não'), ('Resistividade', 'Não'), ('Susceptibilidade', 'Não'), ('Outros', 'Sim'), ('Mapeamento', 'Não'), ('Geoquímica', 'Não'), ('Programa de Parcerias de Investimentos (PPI)', 'Não'), ('Geofísica', 'Não'), ('Estudo Geotecnológico', 'Não'), ('Artigo', 'Sim'), ('Pesquisa Mineral', 'Não'), ('Graduação', 'Não'), ('Mestrado', 'Não'), ('Doutorado', 'Sim'), ('Pós-Doutorado', 'Não'), ('Resumo das Atividades a serem Realizadas', 'Coleta de amostras do testemunho SL-01-RS. As amostras serão utilizadas para análises geoquímicas que servirão de base para o desenvolvimento de um dos artigos da tese de doutorado da Franciele Trentin. Primeiramente, como resultado da pesquisa, espera-se uma reconstrução climática e ambiental de alta qualidade das formações Rio do Sul e Rio Bonito no sul da Bacia do Paraná. Posteriormente, espera-se determinar a posição e as características da transição paleoclimática de frio e árido (período glacial) para quente e úmido (período pós-glacial) entre o intervalo do Carbonífero ao Permiano do sul da Bacia do Paraná. Por fim, epera-se obter uma relação dos resultados paleoclimáticos desta pesquisa com as informações paleoclimáticas de outras áreas do sul do paleocontinente Gondwana.'), ('Nome do Projeto', 'CARVÃO ENERG. NO EST.DO RIO G.DO SUL'), ('Ano do Projeto', '1980'), ('Centro de Custo do Projeto', '1446550'), ('Número do SGP', '0'), ('Unidade Executora', 'RS'), ('Requisição de Análise (RA)', '0'), ('Lote', '0'), ('Alíquotas Geoquímicas', '0'), ('Material de Referência', '0'), ('Rochas', '0'), ('Testemunhos de Sondagem (em metros)', '294,00'), ('Solos', '0'), ('Sedimentos de Corrente', '0'), ('Concentrados de Batéia', '0'), ('Lâminas Petrográficas', '0'), ('Seções Polidas', '0'), ('Cadernetas de Campo', '0'), ('Observações', 'O testemunho SL-01-RS solicitado encontra-se nas dependências da UNISINOS, portanto, a solicitação refere-se apenas a amostragem e não será realizada visitação às dependências da LIPA.'), ('ACEITO', 'Sim')])\n"
     ]
    }
   ],
   "source": [
    "print(dict_series)"
   ]
  },
  {
   "cell_type": "code",
   "execution_count": 24,
   "metadata": {},
   "outputs": [
    {
     "data": {
      "text/html": [
       "<div>\n",
       "<style scoped>\n",
       "    .dataframe tbody tr th:only-of-type {\n",
       "        vertical-align: middle;\n",
       "    }\n",
       "\n",
       "    .dataframe tbody tr th {\n",
       "        vertical-align: top;\n",
       "    }\n",
       "\n",
       "    .dataframe thead th {\n",
       "        text-align: right;\n",
       "    }\n",
       "</style>\n",
       "<table border=\"1\" class=\"dataframe\">\n",
       "  <thead>\n",
       "    <tr style=\"text-align: right;\">\n",
       "      <th></th>\n",
       "      <th>Tipo de Solicitante</th>\n",
       "      <th>Nome do(a) Solicitante</th>\n",
       "      <th>Organização/Unidade</th>\n",
       "      <th>E-mail</th>\n",
       "      <th>Telefone (com DDD)</th>\n",
       "      <th>Volume Solicitado</th>\n",
       "      <th>Microscópio Eletrônico de Varredura - MEV</th>\n",
       "      <th>Microssonda</th>\n",
       "      <th>Inductively Coupled Plasma Mass Spectrometry (ICP-MS)</th>\n",
       "      <th>Digital X-Ray Detectors (DXR)</th>\n",
       "      <th>...</th>\n",
       "      <th>Rochas</th>\n",
       "      <th>Testemunhos de Sondagem (em metros)</th>\n",
       "      <th>Solos</th>\n",
       "      <th>Sedimentos de Corrente</th>\n",
       "      <th>Concentrados de Batéia</th>\n",
       "      <th>Lâminas Petrográficas</th>\n",
       "      <th>Seções Polidas</th>\n",
       "      <th>Cadernetas de Campo</th>\n",
       "      <th>Observações</th>\n",
       "      <th>ACEITO</th>\n",
       "    </tr>\n",
       "  </thead>\n",
       "  <tbody>\n",
       "    <tr>\n",
       "      <th>0</th>\n",
       "      <td>Externo</td>\n",
       "      <td>Karlos Guilherme Diemer Kochhann</td>\n",
       "      <td>UNISINOS</td>\n",
       "      <td>KKOCHHANN@unisinos.br</td>\n",
       "      <td>(51)35911-1220</td>\n",
       "      <td>&lt;200 Exemplares</td>\n",
       "      <td>False</td>\n",
       "      <td>False</td>\n",
       "      <td>False</td>\n",
       "      <td>False</td>\n",
       "      <td>...</td>\n",
       "      <td>0</td>\n",
       "      <td>294.0</td>\n",
       "      <td>0</td>\n",
       "      <td>0</td>\n",
       "      <td>0</td>\n",
       "      <td>0</td>\n",
       "      <td>0</td>\n",
       "      <td>0</td>\n",
       "      <td>O testemunho SL-01-RS solicitado encontra-se n...</td>\n",
       "      <td>True</td>\n",
       "    </tr>\n",
       "  </tbody>\n",
       "</table>\n",
       "<p>1 rows × 52 columns</p>\n",
       "</div>"
      ],
      "text/plain": [
       "  Tipo de Solicitante            Nome do(a) Solicitante Organização/Unidade  \\\n",
       "0             Externo  Karlos Guilherme Diemer Kochhann            UNISINOS   \n",
       "\n",
       "                  E-mail Telefone (com DDD) Volume Solicitado  \\\n",
       "0  KKOCHHANN@unisinos.br     (51)35911-1220   <200 Exemplares   \n",
       "\n",
       "   Microscópio Eletrônico de Varredura - MEV  Microssonda  \\\n",
       "0                                      False        False   \n",
       "\n",
       "   Inductively Coupled Plasma Mass Spectrometry (ICP-MS)  \\\n",
       "0                                              False       \n",
       "\n",
       "   Digital X-Ray Detectors (DXR)  ...  Rochas  \\\n",
       "0                          False  ...       0   \n",
       "\n",
       "   Testemunhos de Sondagem (em metros)  Solos  Sedimentos de Corrente  \\\n",
       "0                                294.0      0                       0   \n",
       "\n",
       "   Concentrados de Batéia  Lâminas Petrográficas  Seções Polidas  \\\n",
       "0                       0                      0               0   \n",
       "\n",
       "   Cadernetas de Campo                                        Observações  \\\n",
       "0                    0  O testemunho SL-01-RS solicitado encontra-se n...   \n",
       "\n",
       "   ACEITO  \n",
       "0    True  \n",
       "\n",
       "[1 rows x 52 columns]"
      ]
     },
     "execution_count": 24,
     "metadata": {},
     "output_type": "execute_result"
    }
   ],
   "source": [
    "df.head()"
   ]
  },
  {
   "cell_type": "code",
   "execution_count": 26,
   "metadata": {},
   "outputs": [
    {
     "name": "stdout",
     "output_type": "stream",
     "text": [
      "<_io.TextIOWrapper name='jocker_sei/1159758.html' mode='r' encoding='cp1252'>\n"
     ]
    }
   ],
   "source": [
    "import html\n",
    "\n",
    "fname = 'jocker_sei/1159758.html'\n",
    "html_file = open(fname, 'r')\n",
    "\n",
    "print(html_file)\n",
    "\n",
    "# Sua string HTML com entidades HTML\n",
    "#html_string = \"&nbsp;&nbsp;&lt;Texto&gt;\"\n",
    "\n",
    "# Use a função unescape() para remover as entidades HTML\n",
    "#texto_limpo = html.unescape(html_string)\n",
    "\n",
    "# Exiba o resultado\n",
    "#print(texto_limpo)"
   ]
  },
  {
   "cell_type": "code",
   "execution_count": 27,
   "metadata": {},
   "outputs": [],
   "source": [
    "def download_file_and_save(url, filename):\n",
    "    folderpath = build_path()\n",
    "    filepath = os.path.join(folderpath, filename)\n",
    "    \n",
    "    content = read_file(url)\n",
    "\n",
    "    if not os.path.exists(folderpath):\n",
    "        os.makedirs(folderpath)\n",
    "    with open(filepath, mode='wb') as file:\n",
    "        file.write(content)"
   ]
  },
  {
   "cell_type": "code",
   "execution_count": 32,
   "metadata": {},
   "outputs": [
    {
     "ename": "MissingSchema",
     "evalue": "Invalid URL './jocker_sei/1159758.html': No scheme supplied. Perhaps you meant https://./jocker_sei/1159758.html?",
     "output_type": "error",
     "traceback": [
      "\u001b[1;31m---------------------------------------------------------------------------\u001b[0m",
      "\u001b[1;31mMissingSchema\u001b[0m                             Traceback (most recent call last)",
      "Cell \u001b[1;32mIn[32], line 17\u001b[0m\n\u001b[0;32m     14\u001b[0m         conteudo \u001b[38;5;241m=\u001b[39m response\u001b[38;5;241m.\u001b[39mcontent\n\u001b[0;32m     15\u001b[0m         \u001b[38;5;28;01mreturn\u001b[39;00m conteudo\n\u001b[1;32m---> 17\u001b[0m conteudo \u001b[38;5;241m=\u001b[39m \u001b[43mler_file\u001b[49m\u001b[43m(\u001b[49m\u001b[43murl\u001b[49m\u001b[43m)\u001b[49m\n\u001b[0;32m     18\u001b[0m conteudo[:\u001b[38;5;241m200\u001b[39m]\n",
      "Cell \u001b[1;32mIn[32], line 11\u001b[0m, in \u001b[0;36mler_file\u001b[1;34m(url)\u001b[0m\n\u001b[0;32m     10\u001b[0m \u001b[38;5;28;01mdef\u001b[39;00m \u001b[38;5;21mler_file\u001b[39m(url):\n\u001b[1;32m---> 11\u001b[0m     response \u001b[38;5;241m=\u001b[39m \u001b[43mrequests\u001b[49m\u001b[38;5;241;43m.\u001b[39;49m\u001b[43mget\u001b[49m\u001b[43m(\u001b[49m\u001b[43murl\u001b[49m\u001b[43m)\u001b[49m\n\u001b[0;32m     13\u001b[0m     \u001b[38;5;28;01mif\u001b[39;00m response\u001b[38;5;241m.\u001b[39mstatus_code \u001b[38;5;241m==\u001b[39m \u001b[38;5;241m200\u001b[39m:\n\u001b[0;32m     14\u001b[0m         conteudo \u001b[38;5;241m=\u001b[39m response\u001b[38;5;241m.\u001b[39mcontent\n",
      "File \u001b[1;32m~\\AppData\\Local\\Programs\\Python\\Python311\\Lib\\site-packages\\requests\\api.py:73\u001b[0m, in \u001b[0;36mget\u001b[1;34m(url, params, **kwargs)\u001b[0m\n\u001b[0;32m     62\u001b[0m \u001b[38;5;28;01mdef\u001b[39;00m \u001b[38;5;21mget\u001b[39m(url, params\u001b[38;5;241m=\u001b[39m\u001b[38;5;28;01mNone\u001b[39;00m, \u001b[38;5;241m*\u001b[39m\u001b[38;5;241m*\u001b[39mkwargs):\n\u001b[0;32m     63\u001b[0m \u001b[38;5;250m    \u001b[39m\u001b[38;5;124mr\u001b[39m\u001b[38;5;124;03m\"\"\"Sends a GET request.\u001b[39;00m\n\u001b[0;32m     64\u001b[0m \n\u001b[0;32m     65\u001b[0m \u001b[38;5;124;03m    :param url: URL for the new :class:`Request` object.\u001b[39;00m\n\u001b[1;32m   (...)\u001b[0m\n\u001b[0;32m     70\u001b[0m \u001b[38;5;124;03m    :rtype: requests.Response\u001b[39;00m\n\u001b[0;32m     71\u001b[0m \u001b[38;5;124;03m    \"\"\"\u001b[39;00m\n\u001b[1;32m---> 73\u001b[0m     \u001b[38;5;28;01mreturn\u001b[39;00m \u001b[43mrequest\u001b[49m\u001b[43m(\u001b[49m\u001b[38;5;124;43m\"\u001b[39;49m\u001b[38;5;124;43mget\u001b[39;49m\u001b[38;5;124;43m\"\u001b[39;49m\u001b[43m,\u001b[49m\u001b[43m \u001b[49m\u001b[43murl\u001b[49m\u001b[43m,\u001b[49m\u001b[43m \u001b[49m\u001b[43mparams\u001b[49m\u001b[38;5;241;43m=\u001b[39;49m\u001b[43mparams\u001b[49m\u001b[43m,\u001b[49m\u001b[43m \u001b[49m\u001b[38;5;241;43m*\u001b[39;49m\u001b[38;5;241;43m*\u001b[39;49m\u001b[43mkwargs\u001b[49m\u001b[43m)\u001b[49m\n",
      "File \u001b[1;32m~\\AppData\\Local\\Programs\\Python\\Python311\\Lib\\site-packages\\requests\\api.py:59\u001b[0m, in \u001b[0;36mrequest\u001b[1;34m(method, url, **kwargs)\u001b[0m\n\u001b[0;32m     55\u001b[0m \u001b[38;5;66;03m# By using the 'with' statement we are sure the session is closed, thus we\u001b[39;00m\n\u001b[0;32m     56\u001b[0m \u001b[38;5;66;03m# avoid leaving sockets open which can trigger a ResourceWarning in some\u001b[39;00m\n\u001b[0;32m     57\u001b[0m \u001b[38;5;66;03m# cases, and look like a memory leak in others.\u001b[39;00m\n\u001b[0;32m     58\u001b[0m \u001b[38;5;28;01mwith\u001b[39;00m sessions\u001b[38;5;241m.\u001b[39mSession() \u001b[38;5;28;01mas\u001b[39;00m session:\n\u001b[1;32m---> 59\u001b[0m     \u001b[38;5;28;01mreturn\u001b[39;00m \u001b[43msession\u001b[49m\u001b[38;5;241;43m.\u001b[39;49m\u001b[43mrequest\u001b[49m\u001b[43m(\u001b[49m\u001b[43mmethod\u001b[49m\u001b[38;5;241;43m=\u001b[39;49m\u001b[43mmethod\u001b[49m\u001b[43m,\u001b[49m\u001b[43m \u001b[49m\u001b[43murl\u001b[49m\u001b[38;5;241;43m=\u001b[39;49m\u001b[43murl\u001b[49m\u001b[43m,\u001b[49m\u001b[43m \u001b[49m\u001b[38;5;241;43m*\u001b[39;49m\u001b[38;5;241;43m*\u001b[39;49m\u001b[43mkwargs\u001b[49m\u001b[43m)\u001b[49m\n",
      "File \u001b[1;32m~\\AppData\\Local\\Programs\\Python\\Python311\\Lib\\site-packages\\requests\\sessions.py:575\u001b[0m, in \u001b[0;36mSession.request\u001b[1;34m(self, method, url, params, data, headers, cookies, files, auth, timeout, allow_redirects, proxies, hooks, stream, verify, cert, json)\u001b[0m\n\u001b[0;32m    562\u001b[0m \u001b[38;5;66;03m# Create the Request.\u001b[39;00m\n\u001b[0;32m    563\u001b[0m req \u001b[38;5;241m=\u001b[39m Request(\n\u001b[0;32m    564\u001b[0m     method\u001b[38;5;241m=\u001b[39mmethod\u001b[38;5;241m.\u001b[39mupper(),\n\u001b[0;32m    565\u001b[0m     url\u001b[38;5;241m=\u001b[39murl,\n\u001b[1;32m   (...)\u001b[0m\n\u001b[0;32m    573\u001b[0m     hooks\u001b[38;5;241m=\u001b[39mhooks,\n\u001b[0;32m    574\u001b[0m )\n\u001b[1;32m--> 575\u001b[0m prep \u001b[38;5;241m=\u001b[39m \u001b[38;5;28;43mself\u001b[39;49m\u001b[38;5;241;43m.\u001b[39;49m\u001b[43mprepare_request\u001b[49m\u001b[43m(\u001b[49m\u001b[43mreq\u001b[49m\u001b[43m)\u001b[49m\n\u001b[0;32m    577\u001b[0m proxies \u001b[38;5;241m=\u001b[39m proxies \u001b[38;5;129;01mor\u001b[39;00m {}\n\u001b[0;32m    579\u001b[0m settings \u001b[38;5;241m=\u001b[39m \u001b[38;5;28mself\u001b[39m\u001b[38;5;241m.\u001b[39mmerge_environment_settings(\n\u001b[0;32m    580\u001b[0m     prep\u001b[38;5;241m.\u001b[39murl, proxies, stream, verify, cert\n\u001b[0;32m    581\u001b[0m )\n",
      "File \u001b[1;32m~\\AppData\\Local\\Programs\\Python\\Python311\\Lib\\site-packages\\requests\\sessions.py:486\u001b[0m, in \u001b[0;36mSession.prepare_request\u001b[1;34m(self, request)\u001b[0m\n\u001b[0;32m    483\u001b[0m     auth \u001b[38;5;241m=\u001b[39m get_netrc_auth(request\u001b[38;5;241m.\u001b[39murl)\n\u001b[0;32m    485\u001b[0m p \u001b[38;5;241m=\u001b[39m PreparedRequest()\n\u001b[1;32m--> 486\u001b[0m \u001b[43mp\u001b[49m\u001b[38;5;241;43m.\u001b[39;49m\u001b[43mprepare\u001b[49m\u001b[43m(\u001b[49m\n\u001b[0;32m    487\u001b[0m \u001b[43m    \u001b[49m\u001b[43mmethod\u001b[49m\u001b[38;5;241;43m=\u001b[39;49m\u001b[43mrequest\u001b[49m\u001b[38;5;241;43m.\u001b[39;49m\u001b[43mmethod\u001b[49m\u001b[38;5;241;43m.\u001b[39;49m\u001b[43mupper\u001b[49m\u001b[43m(\u001b[49m\u001b[43m)\u001b[49m\u001b[43m,\u001b[49m\n\u001b[0;32m    488\u001b[0m \u001b[43m    \u001b[49m\u001b[43murl\u001b[49m\u001b[38;5;241;43m=\u001b[39;49m\u001b[43mrequest\u001b[49m\u001b[38;5;241;43m.\u001b[39;49m\u001b[43murl\u001b[49m\u001b[43m,\u001b[49m\n\u001b[0;32m    489\u001b[0m \u001b[43m    \u001b[49m\u001b[43mfiles\u001b[49m\u001b[38;5;241;43m=\u001b[39;49m\u001b[43mrequest\u001b[49m\u001b[38;5;241;43m.\u001b[39;49m\u001b[43mfiles\u001b[49m\u001b[43m,\u001b[49m\n\u001b[0;32m    490\u001b[0m \u001b[43m    \u001b[49m\u001b[43mdata\u001b[49m\u001b[38;5;241;43m=\u001b[39;49m\u001b[43mrequest\u001b[49m\u001b[38;5;241;43m.\u001b[39;49m\u001b[43mdata\u001b[49m\u001b[43m,\u001b[49m\n\u001b[0;32m    491\u001b[0m \u001b[43m    \u001b[49m\u001b[43mjson\u001b[49m\u001b[38;5;241;43m=\u001b[39;49m\u001b[43mrequest\u001b[49m\u001b[38;5;241;43m.\u001b[39;49m\u001b[43mjson\u001b[49m\u001b[43m,\u001b[49m\n\u001b[0;32m    492\u001b[0m \u001b[43m    \u001b[49m\u001b[43mheaders\u001b[49m\u001b[38;5;241;43m=\u001b[39;49m\u001b[43mmerge_setting\u001b[49m\u001b[43m(\u001b[49m\n\u001b[0;32m    493\u001b[0m \u001b[43m        \u001b[49m\u001b[43mrequest\u001b[49m\u001b[38;5;241;43m.\u001b[39;49m\u001b[43mheaders\u001b[49m\u001b[43m,\u001b[49m\u001b[43m \u001b[49m\u001b[38;5;28;43mself\u001b[39;49m\u001b[38;5;241;43m.\u001b[39;49m\u001b[43mheaders\u001b[49m\u001b[43m,\u001b[49m\u001b[43m \u001b[49m\u001b[43mdict_class\u001b[49m\u001b[38;5;241;43m=\u001b[39;49m\u001b[43mCaseInsensitiveDict\u001b[49m\n\u001b[0;32m    494\u001b[0m \u001b[43m    \u001b[49m\u001b[43m)\u001b[49m\u001b[43m,\u001b[49m\n\u001b[0;32m    495\u001b[0m \u001b[43m    \u001b[49m\u001b[43mparams\u001b[49m\u001b[38;5;241;43m=\u001b[39;49m\u001b[43mmerge_setting\u001b[49m\u001b[43m(\u001b[49m\u001b[43mrequest\u001b[49m\u001b[38;5;241;43m.\u001b[39;49m\u001b[43mparams\u001b[49m\u001b[43m,\u001b[49m\u001b[43m \u001b[49m\u001b[38;5;28;43mself\u001b[39;49m\u001b[38;5;241;43m.\u001b[39;49m\u001b[43mparams\u001b[49m\u001b[43m)\u001b[49m\u001b[43m,\u001b[49m\n\u001b[0;32m    496\u001b[0m \u001b[43m    \u001b[49m\u001b[43mauth\u001b[49m\u001b[38;5;241;43m=\u001b[39;49m\u001b[43mmerge_setting\u001b[49m\u001b[43m(\u001b[49m\u001b[43mauth\u001b[49m\u001b[43m,\u001b[49m\u001b[43m \u001b[49m\u001b[38;5;28;43mself\u001b[39;49m\u001b[38;5;241;43m.\u001b[39;49m\u001b[43mauth\u001b[49m\u001b[43m)\u001b[49m\u001b[43m,\u001b[49m\n\u001b[0;32m    497\u001b[0m \u001b[43m    \u001b[49m\u001b[43mcookies\u001b[49m\u001b[38;5;241;43m=\u001b[39;49m\u001b[43mmerged_cookies\u001b[49m\u001b[43m,\u001b[49m\n\u001b[0;32m    498\u001b[0m \u001b[43m    \u001b[49m\u001b[43mhooks\u001b[49m\u001b[38;5;241;43m=\u001b[39;49m\u001b[43mmerge_hooks\u001b[49m\u001b[43m(\u001b[49m\u001b[43mrequest\u001b[49m\u001b[38;5;241;43m.\u001b[39;49m\u001b[43mhooks\u001b[49m\u001b[43m,\u001b[49m\u001b[43m \u001b[49m\u001b[38;5;28;43mself\u001b[39;49m\u001b[38;5;241;43m.\u001b[39;49m\u001b[43mhooks\u001b[49m\u001b[43m)\u001b[49m\u001b[43m,\u001b[49m\n\u001b[0;32m    499\u001b[0m \u001b[43m\u001b[49m\u001b[43m)\u001b[49m\n\u001b[0;32m    500\u001b[0m \u001b[38;5;28;01mreturn\u001b[39;00m p\n",
      "File \u001b[1;32m~\\AppData\\Local\\Programs\\Python\\Python311\\Lib\\site-packages\\requests\\models.py:368\u001b[0m, in \u001b[0;36mPreparedRequest.prepare\u001b[1;34m(self, method, url, headers, files, data, params, auth, cookies, hooks, json)\u001b[0m\n\u001b[0;32m    365\u001b[0m \u001b[38;5;250m\u001b[39m\u001b[38;5;124;03m\"\"\"Prepares the entire request with the given parameters.\"\"\"\u001b[39;00m\n\u001b[0;32m    367\u001b[0m \u001b[38;5;28mself\u001b[39m\u001b[38;5;241m.\u001b[39mprepare_method(method)\n\u001b[1;32m--> 368\u001b[0m \u001b[38;5;28;43mself\u001b[39;49m\u001b[38;5;241;43m.\u001b[39;49m\u001b[43mprepare_url\u001b[49m\u001b[43m(\u001b[49m\u001b[43murl\u001b[49m\u001b[43m,\u001b[49m\u001b[43m \u001b[49m\u001b[43mparams\u001b[49m\u001b[43m)\u001b[49m\n\u001b[0;32m    369\u001b[0m \u001b[38;5;28mself\u001b[39m\u001b[38;5;241m.\u001b[39mprepare_headers(headers)\n\u001b[0;32m    370\u001b[0m \u001b[38;5;28mself\u001b[39m\u001b[38;5;241m.\u001b[39mprepare_cookies(cookies)\n",
      "File \u001b[1;32m~\\AppData\\Local\\Programs\\Python\\Python311\\Lib\\site-packages\\requests\\models.py:439\u001b[0m, in \u001b[0;36mPreparedRequest.prepare_url\u001b[1;34m(self, url, params)\u001b[0m\n\u001b[0;32m    436\u001b[0m     \u001b[38;5;28;01mraise\u001b[39;00m InvalidURL(\u001b[38;5;241m*\u001b[39me\u001b[38;5;241m.\u001b[39margs)\n\u001b[0;32m    438\u001b[0m \u001b[38;5;28;01mif\u001b[39;00m \u001b[38;5;129;01mnot\u001b[39;00m scheme:\n\u001b[1;32m--> 439\u001b[0m     \u001b[38;5;28;01mraise\u001b[39;00m MissingSchema(\n\u001b[0;32m    440\u001b[0m         \u001b[38;5;124mf\u001b[39m\u001b[38;5;124m\"\u001b[39m\u001b[38;5;124mInvalid URL \u001b[39m\u001b[38;5;132;01m{\u001b[39;00murl\u001b[38;5;132;01m!r}\u001b[39;00m\u001b[38;5;124m: No scheme supplied. \u001b[39m\u001b[38;5;124m\"\u001b[39m\n\u001b[0;32m    441\u001b[0m         \u001b[38;5;124mf\u001b[39m\u001b[38;5;124m\"\u001b[39m\u001b[38;5;124mPerhaps you meant https://\u001b[39m\u001b[38;5;132;01m{\u001b[39;00murl\u001b[38;5;132;01m}\u001b[39;00m\u001b[38;5;124m?\u001b[39m\u001b[38;5;124m\"\u001b[39m\n\u001b[0;32m    442\u001b[0m     )\n\u001b[0;32m    444\u001b[0m \u001b[38;5;28;01mif\u001b[39;00m \u001b[38;5;129;01mnot\u001b[39;00m host:\n\u001b[0;32m    445\u001b[0m     \u001b[38;5;28;01mraise\u001b[39;00m InvalidURL(\u001b[38;5;124mf\u001b[39m\u001b[38;5;124m\"\u001b[39m\u001b[38;5;124mInvalid URL \u001b[39m\u001b[38;5;132;01m{\u001b[39;00murl\u001b[38;5;132;01m!r}\u001b[39;00m\u001b[38;5;124m: No host supplied\u001b[39m\u001b[38;5;124m\"\u001b[39m)\n",
      "\u001b[1;31mMissingSchema\u001b[0m: Invalid URL './jocker_sei/1159758.html': No scheme supplied. Perhaps you meant https://./jocker_sei/1159758.html?"
     ]
    }
   ],
   "source": [
    "from bs4 import BeautifulSoup\n",
    "\n",
    "# links do html tirados via sterium\n",
    "#url = 'https://sei.sgb.gov.br/sei/controlador.php?acao=documento_visualizar&acao_origem=protocolo_pesquisar&id_documento=1989085&infra_sistema=100000100&infra_unidade_atual=110000381&infra_hash=b23e7840e3d389666c6db40824176104cb4ad1a0a009aaa1d91814225dc284b3'\n",
    "\n",
    "url =  './jocker_sei/1159758.html'\n",
    "\n",
    "import requests\n",
    "\n",
    "def ler_file(url):\n",
    "    response = requests.get(url)\n",
    "\n",
    "    if response.status_code == 200:\n",
    "        conteudo = response.content\n",
    "        return conteudo\n",
    "\n",
    "conteudo = ler_file(url)\n",
    "conteudo[:200]"
   ]
  },
  {
   "cell_type": "code",
   "execution_count": null,
   "metadata": {},
   "outputs": [],
   "source": []
  }
 ],
 "metadata": {
  "kernelspec": {
   "display_name": "Python 3 (ipykernel)",
   "language": "python",
   "name": "python3"
  },
  "language_info": {
   "codemirror_mode": {
    "name": "ipython",
    "version": 3
   },
   "file_extension": ".py",
   "mimetype": "text/x-python",
   "name": "python",
   "nbconvert_exporter": "python",
   "pygments_lexer": "ipython3",
   "version": "3.11.5"
  }
 },
 "nbformat": 4,
 "nbformat_minor": 4
}
