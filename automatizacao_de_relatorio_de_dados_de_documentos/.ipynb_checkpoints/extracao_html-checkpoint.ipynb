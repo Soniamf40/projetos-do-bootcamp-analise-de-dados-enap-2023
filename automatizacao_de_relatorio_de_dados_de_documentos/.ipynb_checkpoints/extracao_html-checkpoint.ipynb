{
 "cells": [
  {
   "cell_type": "markdown",
   "id": "c01e1a71-8f76-4443-b3f6-bdd210cf3e1a",
   "metadata": {},
   "source": [
    "# Criar um Data Frame"
   ]
  },
  {
   "cell_type": "code",
   "execution_count": 8,
   "id": "6577ddf3-c31b-42b6-a035-b8f2a75c5bac",
   "metadata": {},
   "outputs": [
    {
     "name": "stdout",
     "output_type": "stream",
     "text": [
      "Requirement already satisfied: beautifulsoup4 in c:\\users\\pbitg\\appdata\\local\\programs\\python\\python311\\lib\\site-packages (4.12.2)\n",
      "Requirement already satisfied: soupsieve>1.2 in c:\\users\\pbitg\\appdata\\local\\programs\\python\\python311\\lib\\site-packages (from beautifulsoup4) (2.5)\n"
     ]
    },
    {
     "name": "stderr",
     "output_type": "stream",
     "text": [
      "\n",
      "[notice] A new release of pip is available: 23.2.1 -> 23.3\n",
      "[notice] To update, run: python.exe -m pip install --upgrade pip\n"
     ]
    }
   ],
   "source": [
    "!pip install beautifulsoup4"
   ]
  },
  {
   "cell_type": "code",
   "execution_count": 9,
   "id": "d8e43814-0e78-440b-8f6c-20b1ae54cf3b",
   "metadata": {},
   "outputs": [],
   "source": [
    "# Importar Bibliotecas\n",
    "import pandas as pd\n",
    "import requests # requisições ao site \n",
    "from bs4 import BeautifulSoup"
   ]
  },
  {
   "cell_type": "code",
   "execution_count": 20,
   "id": "0821df2c-56ce-4553-9177-95b2f7287514",
   "metadata": {},
   "outputs": [
    {
     "data": {
      "text/plain": [
       "<Response [200]>"
      ]
     },
     "execution_count": 20,
     "metadata": {},
     "output_type": "execute_result"
    }
   ],
   "source": [
    "# ler a página\n",
    "url = 'https://sei.sgb.gov.br/sei/controlador.php?acao=documento_visualizar&acao_origem=protocolo_pesquisar&id_documento=1989085&infra_sistema=100000100&infra_unidade_atual=110000381&infra_hash=64efbc471b68b794cd2425412efac8e1805926b05f12268127fb79e5a2fd0fd7'\n",
    "requests.get(url)"
   ]
  },
  {
   "cell_type": "code",
   "execution_count": 14,
   "id": "fe815d59-cb99-414e-b404-d76d5466ea0f",
   "metadata": {},
   "outputs": [],
   "source": [
    "# Salvar em uma variável\n",
    "response = requests.get(url)"
   ]
  },
  {
   "cell_type": "code",
   "execution_count": 15,
   "id": "ceff6bf7-2294-4529-84e8-6400bd344301",
   "metadata": {},
   "outputs": [],
   "source": [
    "# especificar o arquivo (response.content) e o formato do conteúdo ('html.parser')\n",
    "soup = BeautifulSoup(response.content, 'html.parser')"
   ]
  },
  {
   "cell_type": "code",
   "execution_count": 30,
   "id": "e54a886a-ac73-425a-8875-55a8115f1349",
   "metadata": {},
   "outputs": [
    {
     "data": {
      "text/plain": [
       "<div class=\"infraAreaGlobal\" id=\"divInfraAreaGlobal\">\n",
       "<div class=\"infraBarraSuperior\" id=\"divInfraBarraSuperior\">\n",
       "<label>COMPANHIA DE PESQUISA DE RECURSOS MINERAIS</label>\n",
       "</div>\n",
       "<div class=\"infraBarraSistema\" id=\"divInfraBarraSistema\">\n",
       "<div class=\"infraBarraSistemaD\" id=\"divInfraBarraSistemaD\">\n",
       "</div>\n",
       "<div class=\"infraBarraSistemaE\" id=\"divInfraBarraSistemaE\">\n",
       "<label>Sistema Eletrônico de Informações</label></div>\n",
       "</div>\n",
       "<div class=\"infraAreaTela\" id=\"divInfraAreaTela\">\n",
       "<div class=\"infraAreaTelaD\" id=\"divInfraAreaTelaD\" style=\"width:99%\">\n",
       "<div class=\"infraBarraLocalizacao\" id=\"divInfraBarraLocalizacao\"></div>\n",
       "<div class=\"infraAreaDados\" id=\"divInfraAreaDados\" style=\"height:50em;\">\n",
       "<form action=\"login.php?sigla_orgao_sistema=CPRM&amp;sigla_sistema=SEI\" method=\"post\" name=\"frmLogin\" onsubmit=\"return validarForm();\">\n",
       "<div id=\"divAreaRestrita\">\n",
       "<div id=\"divSistema\">\n",
       "<div class=\"linhaSistema\">\n",
       "<div class=\"colunaSistema\">\n",
       "<div class=\"caixaColuna\">\n",
       "<div class=\"caixaRotulo\">SEI</div>\n",
       "</div>\n",
       "</div>\n",
       "</div>\n",
       "</div>\n",
       "<div id=\"divUsuario\">\n",
       "<br/><br/> <label accesskey=\"U\" class=\"infraLabelObrigatorio\" for=\"txtUsuario\" id=\"lblUsuario\"><span class=\"infraTeclaAtalho\">U</span>suário:</label>\n",
       "<input class=\"infraText\" id=\"txtUsuario\" name=\"txtUsuario\" tabindex=\"501\" type=\"text\" value=\"\"/>\n",
       "<br/> <label accesskey=\"e\" class=\"infraLabelObrigatorio\" for=\"pwdSenha\" id=\"lblSenha\">S<span class=\"infraTeclaAtalho\">e</span>nha:</label>\n",
       "<input autocomplete=\"off\" class=\"infraText\" id=\"pwdSenha\" name=\"pwdSenha\" tabindex=\"502\" type=\"password\" value=\"\"/>\n",
       "<label accesskey=\"r\" class=\"infraLabelObrigatorio\" for=\"selOrgao\" id=\"lblOrgao\">Ó<span class=\"infraTeclaAtalho\">r</span>gão:</label>\n",
       "<select class=\"infraSelect\" id=\"selOrgao\" name=\"selOrgao\" onchange=\"objAjaxContexto.executar();\" tabindex=\"503\">\n",
       "<option value=\"null\"> </option>\n",
       "<option selected=\"selected\" value=\"0\">CPRM</option>\n",
       "</select>\n",
       "<label accesskey=\"C\" class=\"infraLabelObrigatorio\" for=\"selContexto\" id=\"lblContexto\"><span class=\"infraTeclaAtalho\">C</span>ontexto:</label>\n",
       "<select class=\"infraSelect\" id=\"selContexto\" name=\"selContexto\" tabindex=\"504\">\n",
       "</select>\n",
       "</div>\n",
       "<div id=\"divCaptcha\">\n",
       "</div>\n",
       "<div id=\"divOpcoes\">\n",
       "<div class=\"infraDivCheckbox\" id=\"divLembrar\">\n",
       "<input class=\"infraCheckbox\" id=\"chkLembrar\" name=\"chkLembrar\" tabindex=\"505\" type=\"checkbox\"/>\n",
       "<label accesskey=\"m\" class=\"infraLabelCheckbox\" for=\"chkLembrar\" id=\"lblLembrar\">Le<span class=\"infraTeclaAtalho\">m</span>brar</label>\n",
       "</div>\n",
       "<div id=\"divBotoes\">\n",
       "<button accesskey=\"a\" class=\"infraButton\" id=\"sbmLogin\" name=\"sbmLogin\" tabindex=\"506\" type=\"submit\" value=\"Acessar\"><span class=\"infraTeclaAtalho\">A</span>cessar</button>\n",
       "</div>\n",
       "</div>\n",
       "</div>\n",
       "<input id=\"hdnToken5b2531fdf7e8b24a9b4fb09bff0e5fa3\" name=\"hdnToken5b2531fdf7e8b24a9b4fb09bff0e5fa3\" type=\"hidden\" value=\"a52d9238e7dcfe04a88021a5578dba4c\"/>\n",
       "</form>\n",
       "</div>\n",
       "</div></div>\n",
       "</div>"
      ]
     },
     "execution_count": 30,
     "metadata": {},
     "output_type": "execute_result"
    }
   ],
   "source": [
    "# Capturar os campos\n",
    "colunas =soup.find('div')\n",
    "colunas"
   ]
  },
  {
   "cell_type": "code",
   "execution_count": null,
   "id": "0388e641-4ffe-4bfd-9dcb-a88e9d730650",
   "metadata": {},
   "outputs": [],
   "source": []
  },
  {
   "cell_type": "code",
   "execution_count": 33,
   "id": "6feab872-e3b0-44eb-a1a6-e43c9c552059",
   "metadata": {},
   "outputs": [
    {
     "data": {
      "text/html": [
       "<div>\n",
       "<style scoped>\n",
       "    .dataframe tbody tr th:only-of-type {\n",
       "        vertical-align: middle;\n",
       "    }\n",
       "\n",
       "    .dataframe tbody tr th {\n",
       "        vertical-align: top;\n",
       "    }\n",
       "\n",
       "    .dataframe thead th {\n",
       "        text-align: right;\n",
       "    }\n",
       "</style>\n",
       "<table border=\"1\" class=\"dataframe\">\n",
       "  <thead>\n",
       "    <tr style=\"text-align: right;\">\n",
       "      <th></th>\n",
       "      <th>Tipo de Solicitante</th>\n",
       "      <th>Nome do(a) Solicitante</th>\n",
       "    </tr>\n",
       "  </thead>\n",
       "  <tbody>\n",
       "    <tr>\n",
       "      <th>0</th>\n",
       "      <td>Interno</td>\n",
       "      <td>Lucio Anderson Martins</td>\n",
       "    </tr>\n",
       "  </tbody>\n",
       "</table>\n",
       "</div>"
      ],
      "text/plain": [
       "  Tipo de Solicitante  Nome do(a) Solicitante\n",
       "0             Interno  Lucio Anderson Martins"
      ]
     },
     "execution_count": 33,
     "metadata": {},
     "output_type": "execute_result"
    }
   ],
   "source": [
    "# Criar o Dafa Frame\n",
    "data = {'Tipo de Solicitante': ['Interno'], 'Nome do(a) Solicitante': ['Lucio Anderson Martins']}\n",
    "df = pd.DataFrame(data)\n",
    "df.head()"
   ]
  },
  {
   "cell_type": "code",
   "execution_count": null,
   "id": "52652543-b478-4001-8877-026674355e5b",
   "metadata": {},
   "outputs": [],
   "source": []
  }
 ],
 "metadata": {
  "kernelspec": {
   "display_name": "Python 3 (ipykernel)",
   "language": "python",
   "name": "python3"
  },
  "language_info": {
   "codemirror_mode": {
    "name": "ipython",
    "version": 3
   },
   "file_extension": ".py",
   "mimetype": "text/x-python",
   "name": "python",
   "nbconvert_exporter": "python",
   "pygments_lexer": "ipython3",
   "version": "3.11.5"
  }
 },
 "nbformat": 4,
 "nbformat_minor": 5
}
