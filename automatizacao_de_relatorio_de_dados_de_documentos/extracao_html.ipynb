{
 "cells": [
  {
   "cell_type": "markdown",
   "id": "c01e1a71-8f76-4443-b3f6-bdd210cf3e1a",
   "metadata": {},
   "source": [
    "# Criar um Data Frame"
   ]
  },
  {
   "cell_type": "code",
   "execution_count": 8,
   "id": "6577ddf3-c31b-42b6-a035-b8f2a75c5bac",
   "metadata": {},
   "outputs": [
    {
     "name": "stdout",
     "output_type": "stream",
     "text": [
      "Requirement already satisfied: beautifulsoup4 in c:\\users\\pbitg\\appdata\\local\\programs\\python\\python311\\lib\\site-packages (4.12.2)\n",
      "Requirement already satisfied: soupsieve>1.2 in c:\\users\\pbitg\\appdata\\local\\programs\\python\\python311\\lib\\site-packages (from beautifulsoup4) (2.5)\n"
     ]
    },
    {
     "name": "stderr",
     "output_type": "stream",
     "text": [
      "\n",
      "[notice] A new release of pip is available: 23.2.1 -> 23.3\n",
      "[notice] To update, run: python.exe -m pip install --upgrade pip\n"
     ]
    }
   ],
   "source": [
    "!pip install beautifulsoup4"
   ]
  },
  {
   "cell_type": "code",
   "execution_count": 37,
   "id": "ae8a92ed-612f-4531-bfca-87991c359084",
   "metadata": {},
   "outputs": [
    {
     "name": "stdout",
     "output_type": "stream",
     "text": [
      "Collecting lxml\n",
      "  Obtaining dependency information for lxml from https://files.pythonhosted.org/packages/31/58/e3b3dd6bb2ab7404f1f4992e2d0e6926ed40cef8ce1b3bbefd95877499e1/lxml-4.9.3-cp311-cp311-win_amd64.whl.metadata\n",
      "  Downloading lxml-4.9.3-cp311-cp311-win_amd64.whl.metadata (3.9 kB)\n",
      "Downloading lxml-4.9.3-cp311-cp311-win_amd64.whl (3.8 MB)\n",
      "   ---------------------------------------- 0.0/3.8 MB ? eta -:--:--\n",
      "   ---------------------------------------- 0.0/3.8 MB ? eta -:--:--\n",
      "   ---------------------------------------- 0.0/3.8 MB ? eta -:--:--\n",
      "   ---------------------------------------- 0.0/3.8 MB ? eta -:--:--\n",
      "   ---------------------------------------- 0.0/3.8 MB 330.3 kB/s eta 0:00:12\n",
      "   - -------------------------------------- 0.1/3.8 MB 731.4 kB/s eta 0:00:05\n",
      "   -- ------------------------------------- 0.3/3.8 MB 1.5 MB/s eta 0:00:03\n",
      "   ---- ----------------------------------- 0.5/3.8 MB 1.9 MB/s eta 0:00:02\n",
      "   ----- ---------------------------------- 0.6/3.8 MB 2.0 MB/s eta 0:00:02\n",
      "   ------- -------------------------------- 0.7/3.8 MB 2.2 MB/s eta 0:00:02\n",
      "   --------- ------------------------------ 0.9/3.8 MB 2.4 MB/s eta 0:00:02\n",
      "   ---------- ----------------------------- 1.0/3.8 MB 2.4 MB/s eta 0:00:02\n",
      "   ------------ --------------------------- 1.2/3.8 MB 2.5 MB/s eta 0:00:02\n",
      "   -------------- ------------------------- 1.4/3.8 MB 2.7 MB/s eta 0:00:01\n",
      "   --------------- ------------------------ 1.4/3.8 MB 2.5 MB/s eta 0:00:01\n",
      "   ---------------- ----------------------- 1.6/3.8 MB 2.6 MB/s eta 0:00:01\n",
      "   ------------------ --------------------- 1.7/3.8 MB 2.6 MB/s eta 0:00:01\n",
      "   -------------------- ------------------- 2.0/3.8 MB 2.8 MB/s eta 0:00:01\n",
      "   --------------------- ------------------ 2.0/3.8 MB 2.8 MB/s eta 0:00:01\n",
      "   ----------------------- ---------------- 2.2/3.8 MB 2.8 MB/s eta 0:00:01\n",
      "   ------------------------- -------------- 2.4/3.8 MB 2.9 MB/s eta 0:00:01\n",
      "   -------------------------- ------------- 2.5/3.8 MB 2.8 MB/s eta 0:00:01\n",
      "   ---------------------------- ----------- 2.7/3.8 MB 2.9 MB/s eta 0:00:01\n",
      "   ----------------------------- ---------- 2.8/3.8 MB 2.8 MB/s eta 0:00:01\n",
      "   ------------------------------ --------- 2.9/3.8 MB 2.8 MB/s eta 0:00:01\n",
      "   -------------------------------- ------- 3.1/3.8 MB 2.8 MB/s eta 0:00:01\n",
      "   ---------------------------------- ----- 3.2/3.8 MB 2.9 MB/s eta 0:00:01\n",
      "   ----------------------------------- ---- 3.3/3.8 MB 2.9 MB/s eta 0:00:01\n",
      "   ------------------------------------- -- 3.5/3.8 MB 2.9 MB/s eta 0:00:01\n",
      "   -------------------------------------- - 3.6/3.8 MB 2.9 MB/s eta 0:00:01\n",
      "   ---------------------------------------  3.8/3.8 MB 2.9 MB/s eta 0:00:01\n",
      "   ---------------------------------------- 3.8/3.8 MB 2.8 MB/s eta 0:00:00\n",
      "Installing collected packages: lxml\n",
      "Successfully installed lxml-4.9.3\n"
     ]
    },
    {
     "name": "stderr",
     "output_type": "stream",
     "text": [
      "\n",
      "[notice] A new release of pip is available: 23.2.1 -> 23.3\n",
      "[notice] To update, run: python.exe -m pip install --upgrade pip\n"
     ]
    }
   ],
   "source": [
    "!pip install lxml"
   ]
  },
  {
   "cell_type": "code",
   "execution_count": 9,
   "id": "d8e43814-0e78-440b-8f6c-20b1ae54cf3b",
   "metadata": {},
   "outputs": [],
   "source": [
    "# Importar Bibliotecas\n",
    "import pandas as pd\n",
    "import requests # requisições ao site \n",
    "from bs4 import BeautifulSoup"
   ]
  },
  {
   "cell_type": "code",
   "execution_count": 39,
   "id": "fad1aba3-b135-4c05-a940-726a121a9f93",
   "metadata": {},
   "outputs": [
    {
     "data": {
      "text/plain": [
       "[    0                                                  1\n",
       " 0 NaN  Documento assinado eletronicamente por HIGO OL...,\n",
       "     0                                                  1\n",
       " 0 NaN  A autenticidade deste documento pode ser confe...]"
      ]
     },
     "execution_count": 39,
     "metadata": {},
     "output_type": "execute_result"
    }
   ],
   "source": [
    "doc = pd.read_html('html_ex.html')\n",
    "doc"
   ]
  },
  {
   "cell_type": "code",
   "execution_count": 20,
   "id": "0821df2c-56ce-4553-9177-95b2f7287514",
   "metadata": {},
   "outputs": [
    {
     "data": {
      "text/plain": [
       "<Response [200]>"
      ]
     },
     "execution_count": 20,
     "metadata": {},
     "output_type": "execute_result"
    }
   ],
   "source": [
    "# ler a página\n",
    "url = 'https://sei.sgb.gov.br/sei/controlador.php?acao=documento_visualizar&acao_origem=protocolo_pesquisar&id_documento=1989085&infra_sistema=100000100&infra_unidade_atual=110000381&infra_hash=64efbc471b68b794cd2425412efac8e1805926b05f12268127fb79e5a2fd0fd7'\n",
    "requests.get(url)"
   ]
  },
  {
   "cell_type": "code",
   "execution_count": 14,
   "id": "fe815d59-cb99-414e-b404-d76d5466ea0f",
   "metadata": {},
   "outputs": [],
   "source": [
    "# Salvar em uma variável\n",
    "response = requests.get(url)"
   ]
  },
  {
   "cell_type": "code",
   "execution_count": 15,
   "id": "ceff6bf7-2294-4529-84e8-6400bd344301",
   "metadata": {},
   "outputs": [],
   "source": [
    "# especificar o arquivo (response.content) e o formato do conteúdo ('html.parser')\n",
    "soup = BeautifulSoup(response.content, 'html.parser')"
   ]
  },
  {
   "cell_type": "code",
   "execution_count": 43,
   "id": "e54a886a-ac73-425a-8875-55a8115f1349",
   "metadata": {},
   "outputs": [],
   "source": [
    "# Capturar os campos\n",
    "colunas =soup.find('div', id_='conteudo')\n",
    "colunas"
   ]
  },
  {
   "cell_type": "code",
   "execution_count": null,
   "id": "0388e641-4ffe-4bfd-9dcb-a88e9d730650",
   "metadata": {},
   "outputs": [],
   "source": []
  },
  {
   "cell_type": "code",
   "execution_count": 33,
   "id": "6feab872-e3b0-44eb-a1a6-e43c9c552059",
   "metadata": {},
   "outputs": [
    {
     "data": {
      "text/html": [
       "<div>\n",
       "<style scoped>\n",
       "    .dataframe tbody tr th:only-of-type {\n",
       "        vertical-align: middle;\n",
       "    }\n",
       "\n",
       "    .dataframe tbody tr th {\n",
       "        vertical-align: top;\n",
       "    }\n",
       "\n",
       "    .dataframe thead th {\n",
       "        text-align: right;\n",
       "    }\n",
       "</style>\n",
       "<table border=\"1\" class=\"dataframe\">\n",
       "  <thead>\n",
       "    <tr style=\"text-align: right;\">\n",
       "      <th></th>\n",
       "      <th>Tipo de Solicitante</th>\n",
       "      <th>Nome do(a) Solicitante</th>\n",
       "    </tr>\n",
       "  </thead>\n",
       "  <tbody>\n",
       "    <tr>\n",
       "      <th>0</th>\n",
       "      <td>Interno</td>\n",
       "      <td>Lucio Anderson Martins</td>\n",
       "    </tr>\n",
       "  </tbody>\n",
       "</table>\n",
       "</div>"
      ],
      "text/plain": [
       "  Tipo de Solicitante  Nome do(a) Solicitante\n",
       "0             Interno  Lucio Anderson Martins"
      ]
     },
     "execution_count": 33,
     "metadata": {},
     "output_type": "execute_result"
    }
   ],
   "source": [
    "# Criar o Dafa Frame\n",
    "data = {'Tipo de Solicitante': ['Interno'], 'Nome do(a) Solicitante': ['Lucio Anderson Martins']}\n",
    "df = pd.DataFrame(data)\n",
    "df.head()"
   ]
  },
  {
   "cell_type": "code",
   "execution_count": null,
   "id": "52652543-b478-4001-8877-026674355e5b",
   "metadata": {},
   "outputs": [],
   "source": []
  }
 ],
 "metadata": {
  "kernelspec": {
   "display_name": "Python 3 (ipykernel)",
   "language": "python",
   "name": "python3"
  },
  "language_info": {
   "codemirror_mode": {
    "name": "ipython",
    "version": 3
   },
   "file_extension": ".py",
   "mimetype": "text/x-python",
   "name": "python",
   "nbconvert_exporter": "python",
   "pygments_lexer": "ipython3",
   "version": "3.11.5"
  }
 },
 "nbformat": 4,
 "nbformat_minor": 5
}
